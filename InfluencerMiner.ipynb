{
 "cells": [
  {
   "cell_type": "code",
   "execution_count": 6,
   "metadata": {},
   "outputs": [],
   "source": [
    "import twitter\n",
    "import json\n",
    "user_list = []\n",
    "followers_list = []\n",
    "api = twitter.Api(consumer_key='Wa5xi8yfBZ4LihhpZp2KqzlOq',\n",
    "                      consumer_secret='JHZn4GSi08P6e2S71eRAOT2cDWBk0VrYbMwOg0XhzssOALbsDE',\n",
    "                      access_token_key='86863810-NA4wtMzKrQ62EMIvFUyIaTlXuIWGjd5QwlZkJBL4P',\n",
    "                      access_token_secret='DuhCa5Kg3zjHJykC3W30wPxteEwz5QGEQZvoDAqiVwM5o')"
   ]
  },
  {
   "cell_type": "code",
   "execution_count": 7,
   "metadata": {},
   "outputs": [
    {
     "name": "stdout",
     "output_type": "stream",
     "text": [
      "{\"created_at\": \"Mon Nov 02 03:27:44 +0000 2009\", \"default_profile\": true, \"favourites_count\": 57, \"followers_count\": 84, \"friends_count\": 126, \"geo_enabled\": true, \"id\": 86863810, \"id_str\": \"86863810\", \"listed_count\": 6, \"name\": \"Nicolas Thorne\", \"profile_background_color\": \"C0DEED\", \"profile_background_image_url\": \"http://abs.twimg.com/images/themes/theme1/bg.png\", \"profile_background_image_url_https\": \"https://abs.twimg.com/images/themes/theme1/bg.png\", \"profile_image_url\": \"http://pbs.twimg.com/profile_images/503839214/20080602050731232_A000045_Gb_normal.jpg\", \"profile_image_url_https\": \"https://pbs.twimg.com/profile_images/503839214/20080602050731232_A000045_Gb_normal.jpg\", \"profile_link_color\": \"1DA1F2\", \"profile_sidebar_border_color\": \"C0DEED\", \"profile_sidebar_fill_color\": \"DDEEF6\", \"profile_text_color\": \"333333\", \"profile_use_background_image\": true, \"screen_name\": \"elcoco42\", \"status\": {\"created_at\": \"Tue Sep 04 13:45:10 +0000 2018\", \"favorited\": true, \"id\": 1036973446943649792, \"id_str\": \"1036973446943649792\", \"lang\": \"es\", \"quoted_status_id\": 1028058464482934786, \"quoted_status_id_str\": \"1028058464482934786\", \"retweet_count\": 19, \"retweeted\": true, \"retweeted_status\": {\"created_at\": \"Sat Aug 11 01:37:21 +0000 2018\", \"favorite_count\": 56, \"favorited\": true, \"id\": 1028092979419009024, \"id_str\": \"1028092979419009024\", \"lang\": \"es\", \"quoted_status_id\": 1028058464482934786, \"quoted_status_id_str\": \"1028058464482934786\", \"retweet_count\": 19, \"retweeted\": true, \"source\": \"<a href=\\\"http://twitter.com/download/iphone\\\" rel=\\\"nofollow\\\">Twitter for iPhone</a>\", \"text\": \"Estimamos que le econ\\u00f3mia haya crecido 3% en junio y 4.5% en el primer semestre. Mantenemos nuestra proyecci\\u00f3n de 4\\u2026 https://t.co/1HcKsCT0Rc\", \"truncated\": true}, \"source\": \"<a href=\\\"http://twitter.com\\\" rel=\\\"nofollow\\\">Twitter Web Client</a>\", \"text\": \"RT @aethorne: Estimamos que le econ\\u00f3mia haya crecido 3% en junio y 4.5% en el primer semestre. Mantenemos nuestra proyecci\\u00f3n de 4.1% para t\\u2026\"}, \"statuses_count\": 49}\n"
     ]
    }
   ],
   "source": [
    "print(api.VerifyCredentials())"
   ]
  },
  {
   "cell_type": "code",
   "execution_count": 16,
   "metadata": {},
   "outputs": [],
   "source": [
    "results = api.GetSearch(raw_query=\"q=banco bcp\",geocode='-12.04902,-77.03360,10km',return_json=True)\n",
    "with open('bcp.json', 'w') as f:\n",
    "    json.dump(results, f)"
   ]
  },
  {
   "cell_type": "code",
   "execution_count": 17,
   "metadata": {},
   "outputs": [],
   "source": [
    "with open('bcp.json', 'w') as f:\n",
    "    json.dump(results, f)\n",
    "results = [twitter.Status.NewFromJsonDict(x) for x in results.get('statuses', '')]"
   ]
  },
  {
   "cell_type": "code",
   "execution_count": 18,
   "metadata": {},
   "outputs": [
    {
     "name": "stdout",
     "output_type": "stream",
     "text": [
      "panconjamon02\n",
      "boufboufbouf\n",
      "soyMaur0\n",
      "cloudera\n",
      "pinmuebles\n",
      "pinmuebles\n",
      "paulo_pesqueira\n",
      "capecopy\n",
      "LaNacionPy\n",
      "GremialWeb\n",
      "marihuana_weed\n",
      "cmjornal\n"
     ]
    }
   ],
   "source": [
    "\n",
    "for tweet in results:\n",
    "    tmptweet = tweet.AsDict()\n",
    "    #print(tmptweet)\n",
    "    user_list.append(tmptweet['user']['id'])\n",
    "    print(tmptweet['user']['screen_name'])"
   ]
  },
  {
   "cell_type": "code",
   "execution_count": 19,
   "metadata": {},
   "outputs": [],
   "source": [
    "for tweet in results:\n",
    "    tmptweet = tweet.AsDict()\n",
    "    print tmptweet"
   ]
  }
 ],
 "metadata": {
  "kernelspec": {
   "display_name": "Python 3",
   "language": "python",
   "name": "python3"
  },
  "language_info": {
   "codemirror_mode": {
    "name": "ipython",
    "version": 3
   },
   "file_extension": ".py",
   "mimetype": "text/x-python",
   "name": "python",
   "nbconvert_exporter": "python",
   "pygments_lexer": "ipython3",
   "version": "3.7.4"
  }
 },
 "nbformat": 4,
 "nbformat_minor": 2
}
